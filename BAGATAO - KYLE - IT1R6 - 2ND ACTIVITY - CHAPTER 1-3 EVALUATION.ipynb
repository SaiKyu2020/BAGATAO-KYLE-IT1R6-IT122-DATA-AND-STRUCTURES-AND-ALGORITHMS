{
 "cells": [
  {
   "cell_type": "code",
   "execution_count": 30,
   "id": "medical-rescue",
   "metadata": {},
   "outputs": [
    {
     "name": "stdout",
     "output_type": "stream",
     "text": [
      "Chapter 1(Part 1) Summary:\n",
      "\n",
      "\n",
      "\tThere are three types of the characteristics of a data structure,\n",
      "First is the Correctness. Correctness shall implemented the data structure,\n",
      "second is the Time Complexity, this term shall ran at right excution and\n",
      "right time to able to run the program smoothly. Lastly, the Space Complexity\n",
      "Space Complexity is lessen the space of file as soon as possible to not\n",
      "able to waste the storage and to able to use it to the future use.\n",
      "\n",
      "\tThe next topic is all about the execution time cases, there are \n",
      "three cases to be determined depends on the manner. First is the Worst Case,\n",
      "this term will take the maximum time to fix the particular problem of\n",
      "task, one of the example is to find the find the trojan horse and elimate\n",
      "it. The second term is called Average Case, this case will take average\n",
      "to execute the particular task. Lastly is Best Case, this term will take\n",
      "best but atleast possible execution to the specific tasks.\n",
      "\n",
      "\tThe next topic is all about on why to learn Data Structure and\n",
      "Algorithms, first to do is to data search, data search will big help\n",
      "to understand more and incase you forget a specific code. Second to do\n",
      "is processor speed, this speed will fast when the record was in the less\n",
      "one billion record and it opposites when the records was way to grow to the\n",
      "more than one billion records. Last is the Mutiple requests, this term\n",
      "was the main problem because many users searched data simultaneously on\n",
      "a web due to fail the server even the server has best specs.\n",
      "\n",
      "\n",
      "\n"
     ]
    }
   ],
   "source": [
    "print(\"Chapter 1\" +\"(Part 1\" +') ' + \"Summary:\\n\\n\")\n",
    "print(\"\\tThere are three types of the characteristics of a data structure,\")\n",
    "print(\"First is the Correctness. Correctness shall implemented the data structure,\")\n",
    "print(\"second is the Time Complexity, this term shall ran at right excution and\")\n",
    "print(\"right time to able to run the program smoothly. Lastly, the Space Complexity\")\n",
    "print(\"Space Complexity is lessen the space of file as soon as possible to not\")\n",
    "print(\"able to waste the storage and to able to use it to the future use.\\n\")\n",
    "print(\"\\tThe next topic is all about the execution time cases, there are \")\n",
    "print(\"three cases to be determined depends on the manner. First is the Worst Case,\")\n",
    "print(\"this term will take the maximum time to fix the particular problem of\")\n",
    "print(\"task, one of the example is to find the find the trojan horse and elimate\")\n",
    "print(\"it. The second term is called Average Case, this case will take average\")\n",
    "print(\"to execute the particular task. Lastly is Best Case, this term will take\")\n",
    "print(\"best but atleast possible execution to the specific tasks.\\n\")\n",
    "print(\"\\tThe next topic is all about on why to learn Data Structure and\")\n",
    "print(\"Algorithms, first to do is to data search, data search will big help\")\n",
    "print(\"to understand more and incase you forget a specific code. Second to do\")\n",
    "print(\"is processor speed, this speed will fast when the record was in the less\")\n",
    "print(\"one billion record and it opposites when the records was way to grow to the\")\n",
    "print(\"more than one billion records. Last is the Mutiple requests, this term\")\n",
    "print(\"was the main problem because many users searched data simultaneously on\")\n",
    "print(\"a web due to fail the server even the server has best specs.\\n\\n\\n\") "
   ]
  },
  {
   "cell_type": "code",
   "execution_count": 29,
   "id": "combined-badge",
   "metadata": {},
   "outputs": [
    {
     "name": "stdout",
     "output_type": "stream",
     "text": [
      "Chapter 1(Part 2) Summary:\n",
      "\n",
      "\n",
      "\tThe first topic will talk about it is all about the algorithm\n",
      "analysis. The effeciency of an algorithm can be analyzed on two types,\n",
      "the \"A Priori Analysis\" and the \"A Posterior Anaysis\". These two\n",
      "types can really help you to have effeciency to the algorithm.\n",
      "First is the A Priori analysis, this term will use the theoritical\n",
      "analysis and it will have outcomes on what happen based on the\n",
      "assumption. The example is the processor speed is still constant even\n",
      "if there is a problem. The other term is what we called A Posterior\n",
      "Analysis. This term will use empirical type of analysis, this selected\n",
      "is only programming language/s. It will executed in the computer machine\n",
      "and it will collected data and statistics results.\n",
      "\n",
      "The next topic is all about the algorithm complexity. There are two terms\n",
      "to be used to able to determined of X. First is the Time Factor, time\n",
      "factor is measured by counting the number of key operations such as\n",
      "comparisons in the sorting algorithm. Second is the Space Factor, space\n",
      "factor is the counting the max memory space required for the algorithm.\n",
      "these term will complex the algorithm gives the running time by the\n",
      "algorithm in terms of n as the size of input data.\n",
      "\n",
      "The Space Complexity requires two components to able have to represent\n",
      "the amount of memory space. First is the fixed part is a space required\n",
      "for the certain data and variables and second is a variable part is a \n",
      "space required by variables.\n",
      "\n",
      "\n",
      "\n"
     ]
    }
   ],
   "source": [
    "print(\"Chapter 1\" +\"(Part 2\" +') ' + \"Summary:\\n\\n\")\n",
    "print(\"\\tThe first topic will talk about it is all about the algorithm\")\n",
    "print(\"analysis. The effeciency of an algorithm can be analyzed on two types,\")\n",
    "print(\"the \\\"A Priori Analysis\\\" and the \\\"A Posterior Anaysis\\\". These two\")\n",
    "print(\"types can really help you to have effeciency to the algorithm.\")\n",
    "print(\"First is the A Priori analysis, this term will use the theoritical\")\n",
    "print(\"analysis and it will have outcomes on what happen based on the\")\n",
    "print(\"assumption. The example is the processor speed is still constant even\")\n",
    "print(\"if there is a problem. The other term is what we called A Posterior\")\n",
    "print(\"Analysis. This term will use empirical type of analysis, this selected\")\n",
    "print(\"is only programming language/s. It will executed in the computer machine\")\n",
    "print(\"and it will collected data and statistics results.\\n\")\n",
    "print(\"The next topic is all about the algorithm complexity. There are two terms\")\n",
    "print(\"to be used to able to determined of X. First is the Time Factor, time\")\n",
    "print(\"factor is measured by counting the number of key operations such as\")\n",
    "print(\"comparisons in the sorting algorithm. Second is the Space Factor, space\")\n",
    "print(\"factor is the counting the max memory space required for the algorithm.\")\n",
    "print(\"these term will complex the algorithm gives the running time by the\")\n",
    "print(\"algorithm in terms of n as the size of input data.\\n\")\n",
    "print(\"The Space Complexity requires two components to able have to represent\")\n",
    "print(\"the amount of memory space. First is the fixed part is a space required\")\n",
    "print(\"for the certain data and variables and second is a variable part is a \")\n",
    "print(\"space required by variables.\\n\\n\\n\")"
   ]
  },
  {
   "cell_type": "code",
   "execution_count": 28,
   "id": "brave-stress",
   "metadata": {},
   "outputs": [
    {
     "name": "stdout",
     "output_type": "stream",
     "text": [
      "Chapter 2 Summary:\n",
      "\n",
      "\n",
      "\tFirst the topic will talked about is the build-in data types.\n",
      "First is the integers, integers can be input in whole numbers without any\n",
      "decimals like 9, 10, 11, etc. Next is the boolean, this data is only\n",
      "indicate to \"True\" and \"False\". Next is the Float, float unlike to\n",
      "to integer, float can input into numbers with any decimals like 1.05,\n",
      "3.50, 50.5681, etc. Float can be called double it has a quite different\n",
      "interns of the number of decimal points can be input. The last is\n",
      "character and strings. these two have a different task on it.\n",
      "Character can be used only one character and it is only to activate\n",
      "through single quote or ('). On the other hand, Strings can hold\n",
      "more than one character and it is indicated to double quote or (\")\n",
      "\n",
      "\tThe next topic is all about the devired data types. These\n",
      "data type are normally built by the combine of primary or built-in\n",
      "data types. First is list, list is the most versatile data type in\n",
      "programming. This term will store the similiar data items and it is\n",
      "wrttem to the square brackets following the seperation using the comma/s.\n",
      "Next is the array, array is a collection of element/s, each identified\n",
      "by at least one array index or key. Next is stack, stack is an abstract\n",
      "data type that serves as a collection of elements. Last is queue,\n",
      "queue is where to compute the sequence before it happens.\n",
      "\n",
      "\n",
      "\n"
     ]
    }
   ],
   "source": [
    "print(\"Chapter 2 Summary:\\n\\n\")\n",
    "print(\"\\tFirst the topic will talked about is the build-in data types.\")\n",
    "print(\"First is the integers, integers can be input in whole numbers without any\")\n",
    "print(\"decimals like 9, 10, 11, etc. Next is the boolean, this data is only\")\n",
    "print(\"indicate to \\\"True\\\" and \\\"False\\\". Next is the Float, float unlike to\")\n",
    "print(\"to integer, float can input into numbers with any decimals like 1.05,\")\n",
    "print(\"3.50, 50.5681, etc. Float can be called double it has a quite different\")\n",
    "print(\"interns of the number of decimal points can be input. The last is\")\n",
    "print(\"character and strings. these two have a different task on it.\")\n",
    "print(\"Character can be used only one character and it is only to activate\")\n",
    "print(\"through single quote or (\\'). On the other hand, Strings can hold\")\n",
    "print(\"more than one character and it is indicated to double quote or (\\\")\\n\")\n",
    "print(\"\\tThe next topic is all about the devired data types. These\")\n",
    "print(\"data type are normally built by the combine of primary or built-in\")\n",
    "print(\"data types. First is list, list is the most versatile data type in\")\n",
    "print(\"programming. This term will store the similiar data items and it is\")\n",
    "print(\"wrttem to the square brackets following the seperation using the comma/s.\")\n",
    "print(\"Next is the array, array is a collection of element/s, each identified\")\n",
    "print(\"by at least one array index or key. Next is stack, stack is an abstract\")\n",
    "print(\"data type that serves as a collection of elements. Last is queue,\")\n",
    "print(\"queue is where to compute the sequence before it happens.\\n\\n\\n\")"
   ]
  },
  {
   "cell_type": "code",
   "execution_count": 27,
   "id": "superior-black",
   "metadata": {},
   "outputs": [
    {
     "name": "stdout",
     "output_type": "stream",
     "text": [
      "Chapter 3 Summary:\n",
      "\n",
      "\n",
      "\tThis chapter is all about the main functions and its commands\n",
      "in array, the presentation of array indicates that the start of\n",
      "of counting is always start at 0. On how many elements like 5, the\n",
      "index counting is start at 0. There are the basic operations in Array.\n",
      "First is the traverse, traverse has command to print all the array\n",
      "elements one by one. Next is the insertion, insertion has command to\n",
      "add an element at the given index. The next is deletion, deletion has\n",
      "comman to delete an element at the given index. The other one is search,\n",
      "search has command to search/s an element using the given index or the\n",
      "value. Lastly, the update, update has command to update/s an element at\n",
      "at the given index.\n",
      "\n",
      "\tSome operations can be operate in the array even it is a character\n",
      "and these are called typecodes and it has each represent. First is\n",
      "small b represents in signed integer of size 1 byte, capital B \n",
      "represents unsigned integer of size 1 byte, small c represents character\n",
      "of size 1 byte, small i represents signed integer of size 2 bytes,\n",
      "capital I represents unsigned integer of size 2 bytes, small f represents\n",
      "floating point of size 4 bytes, and small d represents floating point\n",
      "of size 8 bytes.\n"
     ]
    }
   ],
   "source": [
    "print(\"Chapter 3 Summary:\\n\\n\")\n",
    "print(\"\\tThis chapter is all about the main functions and its commands\")\n",
    "print(\"in array, the presentation of array indicates that the start of\")\n",
    "print(\"of counting is always start at 0. On how many elements like 5, the\")\n",
    "print(\"index counting is start at 0. There are the basic operations in Array.\")\n",
    "print(\"First is the traverse, traverse has command to print all the array\")\n",
    "print(\"elements one by one. Next is the insertion, insertion has command to\")\n",
    "print(\"add an element at the given index. The next is deletion, deletion has\")\n",
    "print(\"comman to delete an element at the given index. The other one is search,\")\n",
    "print(\"search has command to search/s an element using the given index or the\")\n",
    "print(\"value. Lastly, the update, update has command to update/s an element at\")\n",
    "print(\"at the given index.\\n\")\n",
    "print(\"\\tSome operations can be operate in the array even it is a character\")\n",
    "print(\"and these are called typecodes and it has each represent. First is\")\n",
    "print(\"small b represents in signed integer of size 1 byte, capital B \")\n",
    "print(\"represents unsigned integer of size 1 byte, small c represents character\")\n",
    "print(\"of size 1 byte, small i represents signed integer of size 2 bytes,\")\n",
    "print(\"capital I represents unsigned integer of size 2 bytes, small f represents\")\n",
    "print(\"floating point of size 4 bytes, and small d represents floating point\")\n",
    "print(\"of size 8 bytes.\")"
   ]
  },
  {
   "cell_type": "code",
   "execution_count": 39,
   "id": "found-insider",
   "metadata": {},
   "outputs": [
    {
     "name": "stdout",
     "output_type": "stream",
     "text": [
      "5\n",
      "200\n",
      "15\n",
      "64\n",
      "8\n",
      "45\n",
      "99\n",
      "176\n",
      "45\n",
      "5\n"
     ]
    }
   ],
   "source": [
    "from array import *\n",
    "\n",
    "numbers = array('i' ,[5,7,8,15,64,8,45,99,176,45])\n",
    "numbers.remove(8)\n",
    "numbers.insert(1000,5)\n",
    "numbers[1] = 200\n",
    "for x in numbers:\n",
    "    print(x)"
   ]
  },
  {
   "cell_type": "code",
   "execution_count": null,
   "id": "lightweight-bunch",
   "metadata": {},
   "outputs": [],
   "source": []
  }
 ],
 "metadata": {
  "kernelspec": {
   "display_name": "Python 3",
   "language": "python",
   "name": "python3"
  },
  "language_info": {
   "codemirror_mode": {
    "name": "ipython",
    "version": 3
   },
   "file_extension": ".py",
   "mimetype": "text/x-python",
   "name": "python",
   "nbconvert_exporter": "python",
   "pygments_lexer": "ipython3",
   "version": "3.8.8"
  }
 },
 "nbformat": 4,
 "nbformat_minor": 5
}
